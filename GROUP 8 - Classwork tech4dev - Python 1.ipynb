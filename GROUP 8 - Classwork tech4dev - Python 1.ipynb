{
 "cells": [
  {
   "cell_type": "markdown",
   "id": "eddad5f6",
   "metadata": {},
   "source": [
    "GROUP 8 PARTCIPANTS\n",
    "Rachael Henry \n",
    "Uchenna Okafor \n",
    "Olaitan Suru \n",
    "Jesu-Ebinimiedo Alagha \n",
    "Modupe Olumade \n",
    "Ooreoluwa Olusegun \n",
    "Freda Addo \n",
    "Hannah Atere \n",
    "Esther Adegbami "
   ]
  },
  {
   "cell_type": "markdown",
   "id": "403a1f1a",
   "metadata": {},
   "source": [
    "#  1)Print the First 10 natural numbers"
   ]
  },
  {
   "cell_type": "code",
   "execution_count": 3,
   "id": "f8c1bb73",
   "metadata": {},
   "outputs": [
    {
     "name": "stdout",
     "output_type": "stream",
     "text": [
      "1\n",
      "2\n",
      "3\n",
      "4\n",
      "5\n",
      "6\n",
      "7\n",
      "8\n",
      "9\n",
      "10\n"
     ]
    }
   ],
   "source": [
    "i = 1\n",
    "\n",
    "while(i <= 10):\n",
    "    print(i)\n",
    "    i = i + 1\n",
    "    "
   ]
  },
  {
   "cell_type": "markdown",
   "id": "94e7d96a",
   "metadata": {},
   "source": [
    "# 2)print(\"====The First 10 Natural Numbers====\")]"
   ]
  },
  {
   "cell_type": "code",
   "execution_count": 1,
   "id": "c605882d",
   "metadata": {},
   "outputs": [
    {
     "name": "stdout",
     "output_type": "stream",
     "text": [
      "====The First 10 Natural Numbers====\n",
      "1\n",
      "2\n",
      "3\n",
      "4\n",
      "5\n",
      "6\n",
      "7\n",
      "8\n",
      "9\n",
      "10\n"
     ]
    }
   ],
   "source": [
    "print(\"====The First 10 Natural Numbers====\")\n",
    "i = 1\n",
    "\n",
    "while(i <= 10):\n",
    "    print(i)\n",
    "    i = i + 1"
   ]
  },
  {
   "cell_type": "markdown",
   "id": "e27eb3c2",
   "metadata": {},
   "source": [
    "# 3)Count the total number of digits in a number"
   ]
  },
  {
   "cell_type": "code",
   "execution_count": 14,
   "id": "91626062",
   "metadata": {},
   "outputs": [
    {
     "name": "stdout",
     "output_type": "stream",
     "text": [
      "The number of digits in the number are: 8\n"
     ]
    }
   ],
   "source": [
    "num = 23678905\n",
    "count = 0\n",
    "while(num>0):\n",
    "    count=count+1\n",
    "    num=num//10\n",
    "print(\"The number of digits in the number are:\",count)"
   ]
  },
  {
   "cell_type": "markdown",
   "id": "10a2080c",
   "metadata": {},
   "source": [
    "# 4)Write a program to display all prime numbers within a range\n"
   ]
  },
  {
   "cell_type": "code",
   "execution_count": 28,
   "id": "d15411a6",
   "metadata": {},
   "outputs": [
    {
     "name": "stdout",
     "output_type": "stream",
     "text": [
      "Prime numbers between 200 and 400 are:\n",
      "211\n",
      "223\n",
      "227\n",
      "229\n",
      "233\n",
      "239\n",
      "241\n",
      "251\n",
      "257\n",
      "263\n",
      "269\n",
      "271\n",
      "277\n",
      "281\n",
      "283\n",
      "293\n",
      "307\n",
      "311\n",
      "313\n",
      "317\n",
      "331\n",
      "337\n",
      "347\n",
      "349\n",
      "353\n",
      "359\n",
      "367\n",
      "373\n",
      "379\n",
      "383\n",
      "389\n",
      "397\n"
     ]
    }
   ],
   "source": [
    "lowest = 200\n",
    "highest = 400\n",
    "print(\"Prime numbers between\", lowest, \"and\", highest, \"are:\")\n",
    "        \n",
    "for num in range(lowest, highest + 1):\n",
    "     if num > 1:\n",
    "        for i in range(2, num):\n",
    "            if (num % i) == 0:\n",
    "                break\n",
    "        else:\n",
    "            print(num)"
   ]
  },
  {
   "cell_type": "markdown",
   "id": "de039f7f",
   "metadata": {},
   "source": [
    "# 5) Write a program to print a multiplication table of a given number"
   ]
  },
  {
   "cell_type": "code",
   "execution_count": 31,
   "id": "12d8f5b8",
   "metadata": {},
   "outputs": [
    {
     "name": "stdout",
     "output_type": "stream",
     "text": [
      "24\n",
      "48\n",
      "72\n",
      "96\n",
      "120\n",
      "144\n",
      "168\n",
      "192\n",
      "216\n",
      "240\n"
     ]
    }
   ],
   "source": [
    "num = 24\n",
    "for i in range(1, 11):\n",
    "    print(num*i)"
   ]
  }
 ],
 "metadata": {
  "kernelspec": {
   "display_name": "Python 3 (ipykernel)",
   "language": "python",
   "name": "python3"
  },
  "language_info": {
   "codemirror_mode": {
    "name": "ipython",
    "version": 3
   },
   "file_extension": ".py",
   "mimetype": "text/x-python",
   "name": "python",
   "nbconvert_exporter": "python",
   "pygments_lexer": "ipython3",
   "version": "3.11.5"
  }
 },
 "nbformat": 4,
 "nbformat_minor": 5
}
